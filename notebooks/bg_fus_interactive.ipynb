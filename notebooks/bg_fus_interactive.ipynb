# Colab/VSCode-friendly
try:
    import google.colab  # noqa
    %pip -q install nengo matplotlib ipywidgets
except: pass

import nengo, numpy as np, matplotlib.pyplot as plt
from ipywidgets import FloatSlider, HBox, VBox, interact

np.random.seed(0)

def run_sim(A1=0.8, A2=0.6, kappa=0.6, fus_start=0.5, fus_dur=0.3, T=1.2):
    def fus_scale(t):
        return (1.0 - kappa) if (fus_start <= t <= fus_start+fus_dur) else 1.0

    model = nengo.Network(label="BG+Thal FUS")
    with model:
        # cortical drives (2 actions)
        cortex = nengo.Node(lambda t: [A1 * fus_scale(t), A2], label="Cortex [A1,A2]")
        bg = nengo.networks.BasalGanglia(dimensions=2)
        th = nengo.networks.Thalamus(dimensions=2)

        nengo.Connection(cortex, bg.input, synapse=0.02)
        nengo.Connection(bg.output, th.input, synapse=0.02)

        p_ctx = nengo.Probe(cortex)
        p_bg  = nengo.Probe(bg.output, synapse=0.05)
        p_th  = nengo.Probe(th.output, synapse=0.05)

    with nengo.Simulator(model, seed=1) as sim:
        sim.run(T)

    t = sim.trange()
    th_y = sim.data[p_th]
    winner = th_y.argmax(axis=1)

    fig, ax = plt.subplots(3, 1, figsize=(8,6), sharex=True)
    ax[0].plot(t, sim.data[p_ctx][:,0], label="A1 (FUS-attenuated)"); ax[0].plot(t, sim.data[p_ctx][:,1], label="A2")
    ax[0].axvspan(fus_start, fus_start+fus_dur, alpha=0.15, label="FUS"); ax[0].legend(); ax[0].set_ylabel("Cortex")

    ax[1].plot(t, sim.data[p_bg]); ax[1].set_ylabel("BG out (lower=disinhib.)"); ax[1].set_ylim([-1.2,1.2])

    ax[2].plot(t, th_y); ax[2].set_ylabel("Thalamus"); ax[2].set_xlabel("Time (s)")
    ax[2].text(0.02, 0.8, f"Winner now: {int(winner[-1])}", transform=ax[2].transAxes)

    plt.tight_layout(); plt.show()

interact(run_sim,
         A1=FloatSlider(0,0,1,0.05,0.8),
         A2=FloatSlider(0,0,1,0.05,0.6),
         kappa=FloatSlider(0,0,1,0.05,0.6),
         fus_start=FloatSlider(0,0,1.0,0.05,0.5),
         fus_dur=FloatSlider(0.05,0.05,0.7,0.05,0.3),
         T=FloatSlider(0.6,0.6,2.0,0.1,1.2));
