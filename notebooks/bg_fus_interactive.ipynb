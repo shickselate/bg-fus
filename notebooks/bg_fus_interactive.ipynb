{
  "cells": [
    {
      "cell_type": "markdown",
      "metadata": {},
      "source": [
        "# BG + FUS Attenuation Model (Interactive)\n",
        "\n",
        "This notebook models how the basal ganglia (BG) select between two competing cortical action drives (A1 and A2), and how a *focused ultrasound (FUS)*-style modulation can transiently attenuate the dominant drive to observe action-flips or shifts in selection.\n",
        "\n",
        "### Network architecture\n",
        "- **Cortex [A1, A2]**: two competing input signals.\n",
        "- **Basal Ganglia**: implements selection via disinhibition of one channel.\n",
        "- **Thalamus**: relays the winner back to cortex/execution.\n",
        "\n",
        "### Sliders & descriptions\n",
        "- **A1**: Strength of cortical drive for channel 1 (initial dominant channel).\n",
        "- **A2**: Strength of cortical drive for channel 2.\n",
        "- **kappa**: Fractional attenuation applied to A1 during the FUS window (0 = no attenuation; 1 = full suppression of A1 in window).\n",
        "- **fus_start**: Time in seconds when the FUS window starts.\n",
        "- **fus_dur**: Duration in seconds of the FUS window.\n",
        "- **T**: Total simulation time in seconds.\n",
        "- **seed**: Random seed (integer) for reproducibility.\n",
        "\n",
        "Use the sliders below to explore how parameter changes affect action selection and output behaviour.\n"
      ]
    },
    {
      "cell_type": "code",
      "metadata": {},
      "execution_count": null,
      "outputs": [],
      "source": [
        "# Colab-friendly dependency install (safe to run locally as well)\n",
        "try:\n",
        "    import google.colab  # type: ignore\n",
        "    %pip -q install nengo matplotlib ipywidgets\n",
        "except Exception:\n",
        "    pass"
      ]
    },
    {
      "cell_type": "code",
      "metadata": {},
      "execution_count": null,
      "outputs": [],
      "source": [
        "import numpy as np\n",
        "import nengo\n",
        "import matplotlib.pyplot as plt\n",
        "from ipywidgets import FloatSlider, IntSlider, interact\n",
        "\n",
        "# Disable decoder cache (helps with hosted environments)\n",
        "nengo.rc.set(\"decoder_cache\", \"enabled\", \"False\")\n",
        "\n",
        "np.random.seed(0)"
      ]
    },
    {
      "cell_type": "code",
      "metadata": {},
      "execution_count": null,
      "outputs": [],
      "source": [
        "def run_sim(A1=0.8, A2=0.6, kappa=0.6, fus_start=0.5, fus_dur=0.3, T=1.2, seed=0):\n",
        "    \"\"\"Simulate BG + Thalamus action-selection with FUS attenuation on A1.\"\"\"\n",
        "    seed = int(seed)\n",
        "    np.random.seed(seed)\n",
        "\n",
        "    def fus_scale_fn(t):\n",
        "        return (1.0 - kappa) if (fus_start <= t <= fus_start + fus_dur) else 1.0\n",
        "\n",
        "    model = nengo.Network(label=\"BG + Thalamus with FUS attenuation\")\n",
        "    with model:\n",
        "        cortex = nengo.Node(lambda t: [A1 * fus_scale_fn(t), A2], label=\"Cortex [A1,A2]\")\n",
        "        bg = nengo.networks.BasalGanglia(dimensions=2)\n",
        "        th = nengo.networks.Thalamus(dimensions=2)\n",
        "\n",
        "        nengo.Connection(cortex, bg.input, synapse=0.02)\n",
        "        nengo.Connection(bg.output, th.input, synapse=0.02)\n",
        "\n",
        "        p_ctx = nengo.Probe(cortex)\n",
        "        p_bg  = nengo.Probe(bg.output, synapse=0.05)\n",
        "        p_th  = nengo.Probe(th.output, synapse=0.05)\n",
        "\n",
        "    with nengo.Simulator(model, seed=seed) as sim:\n",
        "        sim.run(T)\n",
        "\n",
        "    t = sim.trange()\n",
        "    ctx = sim.data[p_ctx]\n",
        "    bg_out = sim.data[p_bg]\n",
        "    th_out = sim.data[p_th]\n",
        "\n",
        "    plt.figure(figsize=(8,3))\n",
        "    plt.plot(t, ctx[:,0], label=\"A1 (FUS-attenuated)\")\n",
        "    plt.plot(t, ctx[:,1], label=\"A2\")\n",
        "    plt.axvspan(fus_start, fus_start + fus_dur, alpha=0.15, label=\"FUS window\")\n",
        "    plt.legend(); plt.ylabel(\"Cortex\"); plt.xlabel(\"Time (s)\")\n",
        "    plt.show()\n",
        "\n",
        "    plt.figure(figsize=(8,3))\n",
        "    plt.plot(t, bg_out)\n",
        "    plt.ylabel(\"BG output\"); plt.xlabel(\"Time (s)\")\n",
        "    plt.show()\n",
        "\n",
        "    plt.figure(figsize=(8,3))\n",
        "    plt.plot(t, th_out)\n",
        "    plt.ylabel(\"Thalamus output\"); plt.xlabel(\"Time (s)\")\n",
        "    plt.show()\n",
        "\n",
        "    return dict(t=t, cortex=ctx, bg=bg_out, th=th_out)"
      ]
    },
    {
      "cell_type": "code",
      "metadata": {},
      "execution_count": null,
      "outputs": [],
      "source": [
        "interact(\n",
        "    run_sim,\n",
        "    A1=FloatSlider(min=0.0, max=1.2, step=0.05, value=0.8),\n",
        "    A2=FloatSlider(min=0.0, max=1.2, step=0.05, value=0.6),\n",
        "    kappa=FloatSlider(min=0.0, max=1.0, step=0.05, value=0.6),\n",
        "    fus_start=FloatSlider(min=0.0, max=1.0, step=0.05, value=0.5),\n",
        "    fus_dur=FloatSlider(min=0.05, max=0.7, step=0.05, value=0.3),\n",
        "    T=FloatSlider(min=0.5, max=2.0, step=0.1, value=1.2),\n",
        "    seed=IntSlider(min=0, max=10, step=1, value=0)\n",
        ");"
      ]
    },
    {
      "cell_type": "markdown",
      "metadata": {},
      "source": [
        "### Notes\n",
        "- **Interpretation:** BG output reflects GPi/SNr inhibitory drive; lower BG output = stronger disinhibition of thalamus.\n",
        "- **Look for:** When `kappa` is moderate, the weaker drive may win during the window. When `kappa` is high, you may see both thalamic channels elevate (loss of selectivity).\n",
        "- **Next steps:** Add noise, oscillations, map to behavioural tasks (RT/SSRT), and derive EEG-like predictions."
      ]
    }
  ],
  "metadata": {
    "kernelspec": {
      "display_name": "Python 3",
      "language": "python",
      "name": "python3"
    },
    "language_info": {
      "name": "python",
      "version": "3.x"
    }
  },
  "nbformat": 4,
  "nbformat_minor": 5
}
